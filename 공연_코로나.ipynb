{
 "cells": [
  {
   "cell_type": "markdown",
   "metadata": {},
   "source": [
    "# 공연 & 코로나 테이블 구축\n",
    "***\n",
    "\n",
    "## Package Import"
   ]
  },
  {
   "cell_type": "code",
   "execution_count": 65,
   "metadata": {},
   "outputs": [],
   "source": [
    "import pandas as pd\n",
    "import os\n",
    "import numpy as np"
   ]
  },
  {
   "cell_type": "markdown",
   "metadata": {},
   "source": [
    "***\n",
    "## Load Data"
   ]
  },
  {
   "cell_type": "code",
   "execution_count": 66,
   "metadata": {
    "scrolled": true
   },
   "outputs": [],
   "source": [
    "year_19 = os.listdir('C:/Users/kcisa/Untitled Folder/')[5::2]\n",
    "year_20 = os.listdir('C:/Users/kcisa/Untitled Folder/')[4::2]"
   ]
  },
  {
   "cell_type": "code",
   "execution_count": 67,
   "metadata": {},
   "outputs": [],
   "source": [
    "addr_df = pd.read_excel('DB검색_공연시설DB(주소 및 편의시설 매핑용 등).xls', header = 3).iloc[1:,:]"
   ]
  },
  {
   "cell_type": "markdown",
   "metadata": {},
   "source": [
    "***\n",
    "## Data Wrangling"
   ]
  },
  {
   "cell_type": "code",
   "execution_count": 69,
   "metadata": {},
   "outputs": [],
   "source": [
    "addr_df.columns = ['No.', '시설명(링크)', '공연장수', '총객석수', '공연장명', '객석수', '시설특성', '개관연도', '지역', '시군구', '주소']"
   ]
  },
  {
   "cell_type": "code",
   "execution_count": 70,
   "metadata": {},
   "outputs": [
    {
     "name": "stdout",
     "output_type": "stream",
     "text": [
      "<class 'pandas.core.frame.DataFrame'>\n",
      "RangeIndex: 1386 entries, 1 to 1386\n",
      "Data columns (total 11 columns):\n",
      " #   Column   Non-Null Count  Dtype  \n",
      "---  ------   --------------  -----  \n",
      " 0   No.      1386 non-null   float64\n",
      " 1   시설명(링크)  1386 non-null   object \n",
      " 2   공연장수     1386 non-null   float64\n",
      " 3   총객석수     1386 non-null   float64\n",
      " 4   공연장명     1386 non-null   object \n",
      " 5   객석수      1386 non-null   object \n",
      " 6   시설특성     1386 non-null   object \n",
      " 7   개관연도     1386 non-null   float64\n",
      " 8   지역       1385 non-null   object \n",
      " 9   시군구      1385 non-null   object \n",
      " 10  주소       1386 non-null   object \n",
      "dtypes: float64(4), object(7)\n",
      "memory usage: 119.2+ KB\n"
     ]
    }
   ],
   "source": [
    "addr_df.info()"
   ]
  },
  {
   "cell_type": "code",
   "execution_count": 71,
   "metadata": {},
   "outputs": [],
   "source": [
    "for data in range(len(year_19)) :\n",
    "    globals()['year19_{}'.format(data)] = pd.read_excel(year_19[data], encoding = 'cp949', header = 3)\n",
    "    globals()['year19_{}'.format(data)]['집계월'] = year_19.index(year_19[data]) + 1"
   ]
  },
  {
   "cell_type": "code",
   "execution_count": 72,
   "metadata": {},
   "outputs": [],
   "source": [
    "df19 = pd.DataFrame()\n",
    "for n in range(len(year_19)) :\n",
    "    df19 = pd.concat([df19, globals()['year19_{}'.format(n)]], axis = 0, ignore_index = True)"
   ]
  },
  {
   "cell_type": "code",
   "execution_count": 73,
   "metadata": {},
   "outputs": [],
   "source": [
    "for data in range(len(year_20) - 1) :\n",
    "    globals()['year20_{}'.format(data)] = pd.read_excel(year_20[data], encoding = 'cp949', header = 3)\n",
    "    globals()['year20_{}'.format(data)]['집계월'] = year_20.index(year_20[data]) + 1"
   ]
  },
  {
   "cell_type": "code",
   "execution_count": 74,
   "metadata": {},
   "outputs": [],
   "source": [
    "df20 = pd.DataFrame()\n",
    "for n in range(len(year_20) - 1) :\n",
    "    df20 = pd.concat([df20, globals()['year20_{}'.format(n)]], axis = 0, ignore_index = True)"
   ]
  },
  {
   "cell_type": "code",
   "execution_count": 75,
   "metadata": {
    "scrolled": false
   },
   "outputs": [],
   "source": [
    "df19.columns = ['공연시설명', '내부시설명', '좌석수', '공연건수', '개막편수', '상연횟수', '총 예매수', '집계월']\n",
    "df19.columns = ['19년' + x if (list(df19.columns).index(x) > 1) & (list(df19.columns).index(x) < 7)  else x for x in list(df19.columns)]\n",
    "df20.columns = ['공연시설명', '내부시설명', '좌석수', '공연건수', '개막편수', '상연횟수', '총 예매수', '집계월']\n",
    "df20.columns = ['20년' + x if (list(df20.columns).index(x) > 1) & (list(df20.columns).index(x) < 7) else x for x in list(df20.columns)]"
   ]
  },
  {
   "cell_type": "code",
   "execution_count": 76,
   "metadata": {
    "scrolled": true
   },
   "outputs": [],
   "source": [
    "df19 = df19.loc[df19.내부시설명 != '합계']\n",
    "df19.index = range(df19.shape[0])"
   ]
  },
  {
   "cell_type": "code",
   "execution_count": 77,
   "metadata": {},
   "outputs": [],
   "source": [
    "df20 = df20.loc[df20.내부시설명 != '합계']\n",
    "df20.index = range(df20.shape[0])"
   ]
  },
  {
   "cell_type": "code",
   "execution_count": 78,
   "metadata": {},
   "outputs": [],
   "source": [
    "idx19 = df19.공연시설명[df19.공연시설명.isnull() == 0].index\n",
    "th = 0\n",
    "i = 0\n",
    "j = 1\n",
    "while True :\n",
    "    try :\n",
    "        for n in range(idx19[i], idx19[j]) :\n",
    "            df19.at[n, '공연시설명'] = df19.공연시설명[df19.공연시설명.isnull() == 0][idx19[th]]\n",
    "        i += 1\n",
    "        j += 1\n",
    "        th += 1\n",
    "    except :\n",
    "        break"
   ]
  },
  {
   "cell_type": "code",
   "execution_count": 79,
   "metadata": {},
   "outputs": [],
   "source": [
    "df19.at[2878:, '공연시설명'] = '부산문화회관'"
   ]
  },
  {
   "cell_type": "code",
   "execution_count": 80,
   "metadata": {},
   "outputs": [],
   "source": [
    "idx20 = df20.공연시설명[df20.공연시설명.isnull() == 0].index\n",
    "th = 0\n",
    "i = 0\n",
    "j = 1\n",
    "while True :\n",
    "    try :\n",
    "        for n in range(idx20[i], idx20[j]) :\n",
    "            df20.at[n, '공연시설명'] = df20.공연시설명[df20.공연시설명.isnull() == 0][idx20[th]]\n",
    "        i += 1\n",
    "        j += 1\n",
    "        th += 1\n",
    "    except :\n",
    "        break"
   ]
  },
  {
   "cell_type": "code",
   "execution_count": 81,
   "metadata": {},
   "outputs": [],
   "source": [
    "df20.at[4277, '공연시설명'] = '한국의집'"
   ]
  },
  {
   "cell_type": "code",
   "execution_count": 82,
   "metadata": {},
   "outputs": [
    {
     "data": {
      "text/html": [
       "<div>\n",
       "<style scoped>\n",
       "    .dataframe tbody tr th:only-of-type {\n",
       "        vertical-align: middle;\n",
       "    }\n",
       "\n",
       "    .dataframe tbody tr th {\n",
       "        vertical-align: top;\n",
       "    }\n",
       "\n",
       "    .dataframe thead th {\n",
       "        text-align: right;\n",
       "    }\n",
       "</style>\n",
       "<table border=\"1\" class=\"dataframe\">\n",
       "  <thead>\n",
       "    <tr style=\"text-align: right;\">\n",
       "      <th></th>\n",
       "      <th>공연시설명</th>\n",
       "      <th>내부시설명</th>\n",
       "      <th>19년좌석수</th>\n",
       "      <th>19년공연건수</th>\n",
       "      <th>19년개막편수</th>\n",
       "      <th>19년상연횟수</th>\n",
       "      <th>19년총 예매수</th>\n",
       "      <th>집계월</th>\n",
       "    </tr>\n",
       "  </thead>\n",
       "  <tbody>\n",
       "    <tr>\n",
       "      <th>17</th>\n",
       "      <td>세종문화회관</td>\n",
       "      <td>뜨락(야외공간)</td>\n",
       "      <td>0</td>\n",
       "      <td>0</td>\n",
       "      <td>0</td>\n",
       "      <td>0</td>\n",
       "      <td>0</td>\n",
       "      <td>1</td>\n",
       "    </tr>\n",
       "    <tr>\n",
       "      <th>31</th>\n",
       "      <td>두산아트센터</td>\n",
       "      <td>로비</td>\n",
       "      <td>0</td>\n",
       "      <td>0</td>\n",
       "      <td>0</td>\n",
       "      <td>0</td>\n",
       "      <td>0</td>\n",
       "      <td>1</td>\n",
       "    </tr>\n",
       "    <tr>\n",
       "      <th>41</th>\n",
       "      <td>티오엠씨어터(구. 문화공간필링)</td>\n",
       "      <td>연습실A</td>\n",
       "      <td>0</td>\n",
       "      <td>0</td>\n",
       "      <td>0</td>\n",
       "      <td>0</td>\n",
       "      <td>0</td>\n",
       "      <td>1</td>\n",
       "    </tr>\n",
       "    <tr>\n",
       "      <th>65</th>\n",
       "      <td>경기아트센터(구. 경기도문화의전당)</td>\n",
       "      <td>야외광장</td>\n",
       "      <td>0</td>\n",
       "      <td>0</td>\n",
       "      <td>0</td>\n",
       "      <td>0</td>\n",
       "      <td>0</td>\n",
       "      <td>1</td>\n",
       "    </tr>\n",
       "    <tr>\n",
       "      <th>66</th>\n",
       "      <td>경기아트센터(구. 경기도문화의전당)</td>\n",
       "      <td>행복한대극장</td>\n",
       "      <td>0</td>\n",
       "      <td>0</td>\n",
       "      <td>0</td>\n",
       "      <td>0</td>\n",
       "      <td>0</td>\n",
       "      <td>1</td>\n",
       "    </tr>\n",
       "  </tbody>\n",
       "</table>\n",
       "</div>"
      ],
      "text/plain": [
       "                  공연시설명     내부시설명  19년좌석수  19년공연건수  19년개막편수  19년상연횟수  \\\n",
       "17               세종문화회관  뜨락(야외공간)       0        0        0        0   \n",
       "31               두산아트센터        로비       0        0        0        0   \n",
       "41    티오엠씨어터(구. 문화공간필링)      연습실A       0        0        0        0   \n",
       "65  경기아트센터(구. 경기도문화의전당)      야외광장       0        0        0        0   \n",
       "66  경기아트센터(구. 경기도문화의전당)    행복한대극장       0        0        0        0   \n",
       "\n",
       "    19년총 예매수  집계월  \n",
       "17         0    1  \n",
       "31         0    1  \n",
       "41         0    1  \n",
       "65         0    1  \n",
       "66         0    1  "
      ]
     },
     "execution_count": 82,
     "metadata": {},
     "output_type": "execute_result"
    }
   ],
   "source": [
    "df19_100 = df19.loc[df19['19년좌석수'] < 100]\n",
    "df19_100.head()"
   ]
  },
  {
   "cell_type": "code",
   "execution_count": 83,
   "metadata": {
    "scrolled": false
   },
   "outputs": [
    {
     "data": {
      "text/html": [
       "<div>\n",
       "<style scoped>\n",
       "    .dataframe tbody tr th:only-of-type {\n",
       "        vertical-align: middle;\n",
       "    }\n",
       "\n",
       "    .dataframe tbody tr th {\n",
       "        vertical-align: top;\n",
       "    }\n",
       "\n",
       "    .dataframe thead th {\n",
       "        text-align: right;\n",
       "    }\n",
       "</style>\n",
       "<table border=\"1\" class=\"dataframe\">\n",
       "  <thead>\n",
       "    <tr style=\"text-align: right;\">\n",
       "      <th></th>\n",
       "      <th>공연시설명</th>\n",
       "      <th>내부시설명</th>\n",
       "      <th>20년좌석수</th>\n",
       "      <th>20년공연건수</th>\n",
       "      <th>20년개막편수</th>\n",
       "      <th>20년상연횟수</th>\n",
       "      <th>20년총 예매수</th>\n",
       "      <th>집계월</th>\n",
       "    </tr>\n",
       "  </thead>\n",
       "  <tbody>\n",
       "    <tr>\n",
       "      <th>12</th>\n",
       "      <td>세종문화회관</td>\n",
       "      <td>뜨락(야외공간)</td>\n",
       "      <td>0</td>\n",
       "      <td>0</td>\n",
       "      <td>0</td>\n",
       "      <td>0</td>\n",
       "      <td>0</td>\n",
       "      <td>1</td>\n",
       "    </tr>\n",
       "    <tr>\n",
       "      <th>30</th>\n",
       "      <td>두산아트센터</td>\n",
       "      <td>로비</td>\n",
       "      <td>0</td>\n",
       "      <td>0</td>\n",
       "      <td>0</td>\n",
       "      <td>0</td>\n",
       "      <td>0</td>\n",
       "      <td>1</td>\n",
       "    </tr>\n",
       "    <tr>\n",
       "      <th>43</th>\n",
       "      <td>티오엠씨어터(구. 문화공간필링)</td>\n",
       "      <td>연습실A</td>\n",
       "      <td>0</td>\n",
       "      <td>0</td>\n",
       "      <td>0</td>\n",
       "      <td>0</td>\n",
       "      <td>0</td>\n",
       "      <td>1</td>\n",
       "    </tr>\n",
       "    <tr>\n",
       "      <th>51</th>\n",
       "      <td>인천문화예술회관</td>\n",
       "      <td>복합문화공간 (카페 엔드앤드)</td>\n",
       "      <td>0</td>\n",
       "      <td>0</td>\n",
       "      <td>0</td>\n",
       "      <td>0</td>\n",
       "      <td>0</td>\n",
       "      <td>1</td>\n",
       "    </tr>\n",
       "    <tr>\n",
       "      <th>73</th>\n",
       "      <td>경기아트센터(구. 경기도문화의전당)</td>\n",
       "      <td>야외광장</td>\n",
       "      <td>0</td>\n",
       "      <td>0</td>\n",
       "      <td>0</td>\n",
       "      <td>0</td>\n",
       "      <td>0</td>\n",
       "      <td>1</td>\n",
       "    </tr>\n",
       "  </tbody>\n",
       "</table>\n",
       "</div>"
      ],
      "text/plain": [
       "                  공연시설명             내부시설명  20년좌석수  20년공연건수  20년개막편수  20년상연횟수  \\\n",
       "12               세종문화회관          뜨락(야외공간)       0        0        0        0   \n",
       "30               두산아트센터                로비       0        0        0        0   \n",
       "43    티오엠씨어터(구. 문화공간필링)              연습실A       0        0        0        0   \n",
       "51             인천문화예술회관  복합문화공간 (카페 엔드앤드)       0        0        0        0   \n",
       "73  경기아트센터(구. 경기도문화의전당)              야외광장       0        0        0        0   \n",
       "\n",
       "    20년총 예매수  집계월  \n",
       "12         0    1  \n",
       "30         0    1  \n",
       "43         0    1  \n",
       "51         0    1  \n",
       "73         0    1  "
      ]
     },
     "execution_count": 83,
     "metadata": {},
     "output_type": "execute_result"
    }
   ],
   "source": [
    "df20_100 = df20.loc[df20['20년좌석수'] < 100]\n",
    "df20_100.head()"
   ]
  },
  {
   "cell_type": "code",
   "execution_count": 84,
   "metadata": {},
   "outputs": [],
   "source": [
    "tot = pd.merge(df19_100, df20_100, how = 'outer', on = ['공연시설명','내부시설명','집계월'])"
   ]
  },
  {
   "cell_type": "code",
   "execution_count": 85,
   "metadata": {},
   "outputs": [],
   "source": [
    "tot.fillna(0, inplace = True)"
   ]
  },
  {
   "cell_type": "code",
   "execution_count": 86,
   "metadata": {},
   "outputs": [],
   "source": [
    "tot['공연건수증감'] = tot['19년공연건수'] - tot['20년공연건수']\n",
    "tot['개막편수증감'] = tot['19년개막편수'] - tot['20년개막편수']\n",
    "tot['상연횟수증감'] = tot['19년상연횟수'] - tot['20년상연횟수']\n",
    "tot['총예매수증감'] = tot['19년총 예매수'] - tot['20년총 예매수']"
   ]
  },
  {
   "cell_type": "code",
   "execution_count": 87,
   "metadata": {},
   "outputs": [],
   "source": [
    "tot.공연건수증감 = ['-' + str(x) if x > 0 else abs(x) for x in tot.공연건수증감]\n",
    "tot.개막편수증감 = ['-' + str(x) if x > 0 else abs(x) for x in tot.개막편수증감]\n",
    "tot.상연횟수증감 = ['-' + str(x) if x > 0 else abs(x) for x in tot.상연횟수증감]\n",
    "tot.총예매수증감 = ['-' + str(x) if x > 0 else abs(x) for x in tot.총예매수증감]"
   ]
  },
  {
   "cell_type": "code",
   "execution_count": 88,
   "metadata": {},
   "outputs": [],
   "source": [
    "tot['공연건수변화율'] = tot['20년공연건수'] / tot['19년공연건수'] * 100\n",
    "tot['개막편수변화율'] = tot['20년개막편수'] / tot['19년개막편수'] * 100\n",
    "tot['상연횟수변화율'] =  tot['20년상연횟수'] / tot['19년상연횟수'] * 100\n",
    "tot['총예매수변화율'] = tot['20년총 예매수'] / tot['19년총 예매수'] * 100"
   ]
  },
  {
   "cell_type": "code",
   "execution_count": 89,
   "metadata": {},
   "outputs": [],
   "source": [
    "tot.fillna(0, inplace = True)"
   ]
  },
  {
   "cell_type": "code",
   "execution_count": 90,
   "metadata": {
    "scrolled": true
   },
   "outputs": [],
   "source": [
    "addr = addr_df[['시설명(링크)', '지역', '주소']]"
   ]
  },
  {
   "cell_type": "code",
   "execution_count": 91,
   "metadata": {},
   "outputs": [],
   "source": [
    "addr.columns = ['공연시설명', '지역', '주소']"
   ]
  },
  {
   "cell_type": "code",
   "execution_count": 92,
   "metadata": {},
   "outputs": [],
   "source": [
    "tot = pd.merge(tot, addr, how = 'left', on = '공연시설명')"
   ]
  },
  {
   "cell_type": "code",
   "execution_count": 93,
   "metadata": {
    "scrolled": true
   },
   "outputs": [
    {
     "data": {
      "text/html": [
       "<div>\n",
       "<style scoped>\n",
       "    .dataframe tbody tr th:only-of-type {\n",
       "        vertical-align: middle;\n",
       "    }\n",
       "\n",
       "    .dataframe tbody tr th {\n",
       "        vertical-align: top;\n",
       "    }\n",
       "\n",
       "    .dataframe thead th {\n",
       "        text-align: right;\n",
       "    }\n",
       "</style>\n",
       "<table border=\"1\" class=\"dataframe\">\n",
       "  <thead>\n",
       "    <tr style=\"text-align: right;\">\n",
       "      <th></th>\n",
       "      <th>공연시설명</th>\n",
       "      <th>내부시설명</th>\n",
       "      <th>19년좌석수</th>\n",
       "      <th>19년공연건수</th>\n",
       "      <th>19년개막편수</th>\n",
       "      <th>19년상연횟수</th>\n",
       "      <th>19년총 예매수</th>\n",
       "      <th>집계월</th>\n",
       "      <th>20년좌석수</th>\n",
       "      <th>20년공연건수</th>\n",
       "      <th>...</th>\n",
       "      <th>공연건수증감</th>\n",
       "      <th>개막편수증감</th>\n",
       "      <th>상연횟수증감</th>\n",
       "      <th>총예매수증감</th>\n",
       "      <th>공연건수변화율</th>\n",
       "      <th>개막편수변화율</th>\n",
       "      <th>상연횟수변화율</th>\n",
       "      <th>총예매수변화율</th>\n",
       "      <th>지역</th>\n",
       "      <th>주소</th>\n",
       "    </tr>\n",
       "  </thead>\n",
       "  <tbody>\n",
       "    <tr>\n",
       "      <th>42</th>\n",
       "      <td>서울혁신파크</td>\n",
       "      <td>공유동 다목적홀</td>\n",
       "      <td>0.0</td>\n",
       "      <td>1.0</td>\n",
       "      <td>1.0</td>\n",
       "      <td>4.0</td>\n",
       "      <td>58.0</td>\n",
       "      <td>1</td>\n",
       "      <td>0.0</td>\n",
       "      <td>0.0</td>\n",
       "      <td>...</td>\n",
       "      <td>-1.0</td>\n",
       "      <td>-1.0</td>\n",
       "      <td>-4.0</td>\n",
       "      <td>-58.0</td>\n",
       "      <td>0.0</td>\n",
       "      <td>0.0</td>\n",
       "      <td>0.0</td>\n",
       "      <td>0.0</td>\n",
       "      <td>NaN</td>\n",
       "      <td>NaN</td>\n",
       "    </tr>\n",
       "    <tr>\n",
       "      <th>105</th>\n",
       "      <td>이월드</td>\n",
       "      <td>주차장</td>\n",
       "      <td>0.0</td>\n",
       "      <td>1.0</td>\n",
       "      <td>1.0</td>\n",
       "      <td>1.0</td>\n",
       "      <td>8.0</td>\n",
       "      <td>2</td>\n",
       "      <td>0.0</td>\n",
       "      <td>0.0</td>\n",
       "      <td>...</td>\n",
       "      <td>-1.0</td>\n",
       "      <td>-1.0</td>\n",
       "      <td>-1.0</td>\n",
       "      <td>-8.0</td>\n",
       "      <td>0.0</td>\n",
       "      <td>0.0</td>\n",
       "      <td>0.0</td>\n",
       "      <td>0.0</td>\n",
       "      <td>NaN</td>\n",
       "      <td>NaN</td>\n",
       "    </tr>\n",
       "    <tr>\n",
       "      <th>249</th>\n",
       "      <td>부산 디자인센터(디자인진흥원)</td>\n",
       "      <td>전시실</td>\n",
       "      <td>0.0</td>\n",
       "      <td>1.0</td>\n",
       "      <td>1.0</td>\n",
       "      <td>1.0</td>\n",
       "      <td>5.0</td>\n",
       "      <td>9</td>\n",
       "      <td>0.0</td>\n",
       "      <td>0.0</td>\n",
       "      <td>...</td>\n",
       "      <td>-1.0</td>\n",
       "      <td>-1.0</td>\n",
       "      <td>-1.0</td>\n",
       "      <td>-5.0</td>\n",
       "      <td>0.0</td>\n",
       "      <td>0.0</td>\n",
       "      <td>0.0</td>\n",
       "      <td>0.0</td>\n",
       "      <td>NaN</td>\n",
       "      <td>NaN</td>\n",
       "    </tr>\n",
       "    <tr>\n",
       "      <th>282</th>\n",
       "      <td>서울혁신파크</td>\n",
       "      <td>공유동 다목적홀</td>\n",
       "      <td>0.0</td>\n",
       "      <td>3.0</td>\n",
       "      <td>3.0</td>\n",
       "      <td>6.0</td>\n",
       "      <td>80.0</td>\n",
       "      <td>10</td>\n",
       "      <td>0.0</td>\n",
       "      <td>0.0</td>\n",
       "      <td>...</td>\n",
       "      <td>-3.0</td>\n",
       "      <td>-3.0</td>\n",
       "      <td>-6.0</td>\n",
       "      <td>-80.0</td>\n",
       "      <td>0.0</td>\n",
       "      <td>0.0</td>\n",
       "      <td>0.0</td>\n",
       "      <td>0.0</td>\n",
       "      <td>NaN</td>\n",
       "      <td>NaN</td>\n",
       "    </tr>\n",
       "  </tbody>\n",
       "</table>\n",
       "<p>4 rows × 23 columns</p>\n",
       "</div>"
      ],
      "text/plain": [
       "                공연시설명     내부시설명  19년좌석수  19년공연건수  19년개막편수  19년상연횟수  19년총 예매수  \\\n",
       "42             서울혁신파크  공유동 다목적홀     0.0      1.0      1.0      4.0      58.0   \n",
       "105               이월드       주차장     0.0      1.0      1.0      1.0       8.0   \n",
       "249  부산 디자인센터(디자인진흥원)       전시실     0.0      1.0      1.0      1.0       5.0   \n",
       "282            서울혁신파크  공유동 다목적홀     0.0      3.0      3.0      6.0      80.0   \n",
       "\n",
       "     집계월  20년좌석수  20년공연건수  ...  공연건수증감  개막편수증감  상연횟수증감 총예매수증감 공연건수변화율 개막편수변화율  \\\n",
       "42     1     0.0      0.0  ...    -1.0    -1.0    -4.0  -58.0     0.0     0.0   \n",
       "105    2     0.0      0.0  ...    -1.0    -1.0    -1.0   -8.0     0.0     0.0   \n",
       "249    9     0.0      0.0  ...    -1.0    -1.0    -1.0   -5.0     0.0     0.0   \n",
       "282   10     0.0      0.0  ...    -3.0    -3.0    -6.0  -80.0     0.0     0.0   \n",
       "\n",
       "    상연횟수변화율  총예매수변화율   지역   주소  \n",
       "42      0.0      0.0  NaN  NaN  \n",
       "105     0.0      0.0  NaN  NaN  \n",
       "249     0.0      0.0  NaN  NaN  \n",
       "282     0.0      0.0  NaN  NaN  \n",
       "\n",
       "[4 rows x 23 columns]"
      ]
     },
     "execution_count": 93,
     "metadata": {},
     "output_type": "execute_result"
    }
   ],
   "source": [
    "tot.loc[tot.주소.isnull()]"
   ]
  },
  {
   "cell_type": "code",
   "execution_count": 94,
   "metadata": {},
   "outputs": [],
   "source": [
    "tot.at[42, '주소'] = '서울특별시 은평구 녹번동 산1-55'\n",
    "tot.at[105,'주소'] = '대구광역시 달서구 두류공원로 200'\n",
    "tot.at[249,'주소'] = '부산광역시 해운대구 우동 센텀동로 57 부산디자인진흥원'\n",
    "tot.at[282,'주소'] = '서울특별시 은평구 녹번동 산1-55'\n",
    "\n",
    "tot.at[42, '지역'] = '서울'\n",
    "tot.at[105,'지역'] = '대구'\n",
    "tot.at[249,'지역'] = '부산'\n",
    "tot.at[282,'지역'] = '서울'"
   ]
  },
  {
   "cell_type": "code",
   "execution_count": 95,
   "metadata": {},
   "outputs": [],
   "source": [
    "tot.to_csv(\"공연_비교.csv\", index = False, encoding = 'cp949')"
   ]
  },
  {
   "cell_type": "code",
   "execution_count": 96,
   "metadata": {},
   "outputs": [],
   "source": [
    "c19 = pd.read_csv(\"코로나_19_발생현황__국내__월__20201211145956.csv\",encoding = 'cp949')"
   ]
  },
  {
   "cell_type": "code",
   "execution_count": 97,
   "metadata": {},
   "outputs": [],
   "source": [
    "c19 = c19.iloc[:20, [1,4,9,14,19,24,29,34,39]]"
   ]
  },
  {
   "cell_type": "code",
   "execution_count": 98,
   "metadata": {},
   "outputs": [],
   "source": [
    "c19 = c19.iloc[3:, :]"
   ]
  },
  {
   "cell_type": "code",
   "execution_count": 99,
   "metadata": {},
   "outputs": [],
   "source": [
    "c19.columns = ['지역',4,5,6,7,8,9,10,11]"
   ]
  },
  {
   "cell_type": "code",
   "execution_count": 100,
   "metadata": {
    "scrolled": false
   },
   "outputs": [],
   "source": [
    "d = pd.DataFrame()\n",
    "for n in range(0, 17) :\n",
    "    \n",
    "    s = pd.DataFrame(c19.iloc[n,])\n",
    "    s['지역'] = s.iloc[0,0]\n",
    "    s = s.iloc[1:,:].reset_index()\n",
    "    s.columns = ['집계월','확진자','지역']\n",
    "    d = pd.concat([d, s], axis = 0, ignore_index = True)"
   ]
  },
  {
   "cell_type": "code",
   "execution_count": 101,
   "metadata": {
    "scrolled": true
   },
   "outputs": [],
   "source": [
    "tot = pd.merge(tot, d, on = ['집계월', '지역'], how = 'left')"
   ]
  },
  {
   "cell_type": "code",
   "execution_count": 102,
   "metadata": {},
   "outputs": [],
   "source": [
    "tot.fillna(0,inplace = True)"
   ]
  },
  {
   "cell_type": "code",
   "execution_count": 103,
   "metadata": {},
   "outputs": [],
   "source": [
    "tot.to_csv(\"공연_비교.csv\", index = False, encoding = 'cp949')"
   ]
  }
 ],
 "metadata": {
  "kernelspec": {
   "display_name": "Python 3",
   "language": "python",
   "name": "python3"
  },
  "language_info": {
   "codemirror_mode": {
    "name": "ipython",
    "version": 3
   },
   "file_extension": ".py",
   "mimetype": "text/x-python",
   "name": "python",
   "nbconvert_exporter": "python",
   "pygments_lexer": "ipython3",
   "version": "3.8.3"
  }
 },
 "nbformat": 4,
 "nbformat_minor": 4
}
